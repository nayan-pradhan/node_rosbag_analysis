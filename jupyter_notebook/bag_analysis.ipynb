{
 "cells": [
  {
   "cell_type": "markdown",
   "id": "65d87eaf",
   "metadata": {},
   "source": [
    "# Bag Analysis Task"
   ]
  },
  {
   "cell_type": "markdown",
   "id": "3989c8e0",
   "metadata": {},
   "source": [
    "### Import"
   ]
  },
  {
   "cell_type": "code",
   "execution_count": 1,
   "id": "3bc7a6c2",
   "metadata": {},
   "outputs": [],
   "source": [
    "import bagpy\n",
    "from bagpy import bagreader\n",
    "import pandas as pd\n",
    "import matplotlib.pyplot as plt\n",
    "import numpy as np"
   ]
  },
  {
   "cell_type": "markdown",
   "id": "996c2bc4",
   "metadata": {},
   "source": [
    "### Read ROS BAG file using bagpy"
   ]
  },
  {
   "cell_type": "code",
   "execution_count": null,
   "id": "1e38bd73",
   "metadata": {},
   "outputs": [],
   "source": [
    "PATH = '/home/nayan/NODE_Robotics/environment_files'\n",
    "\n",
    "# bag1: bag file from 01.10.2020 between 11:20-11:30 \n",
    "# bag2: random bag file for reference\n",
    "bag1_name = 'dummy_env-agv-50231.agv-2020-10-01T082312+0200_2020-10-01-11-28-17_37.bag'\n",
    "bag2_name = 'dummy_env-02LSTRV30209OA001.agv-2020-09-17T101249+0200_2020-09-18-15-07-52_347.bag'\n",
    "\n",
    "b1 = bagreader(PATH + '/' + bag1_name)\n",
    "b2 = bagreader(PATH + '/' + bag2_name)"
   ]
  },
  {
   "cell_type": "markdown",
   "id": "2f11334c",
   "metadata": {},
   "source": [
    "-----"
   ]
  },
  {
   "cell_type": "markdown",
   "id": "f0b3dbc8",
   "metadata": {},
   "source": [
    "## For bag1"
   ]
  },
  {
   "cell_type": "markdown",
   "id": "b51fd830",
   "metadata": {},
   "source": [
    "### Inspect Topics"
   ]
  },
  {
   "cell_type": "code",
   "execution_count": null,
   "id": "e547edbc",
   "metadata": {},
   "outputs": [],
   "source": [
    "b1.topic_table"
   ]
  },
  {
   "cell_type": "markdown",
   "id": "8dae1b71",
   "metadata": {},
   "source": [
    "### Inspect Topic: /cmd_vel to check when robot stops"
   ]
  },
  {
   "cell_type": "code",
   "execution_count": null,
   "id": "b4541e87",
   "metadata": {},
   "outputs": [],
   "source": [
    "cmd_vel_msg = b1.message_by_topic('/cmd_vel')\n",
    "df_cmd_vel_msg = pd.read_csv(cmd_vel_msg)\n",
    "df_cmd_vel_msg"
   ]
  },
  {
   "cell_type": "markdown",
   "id": "d98c6f30",
   "metadata": {},
   "source": [
    "### Plotting time vs linear velocity in x graph"
   ]
  },
  {
   "cell_type": "code",
   "execution_count": null,
   "id": "f5116335",
   "metadata": {},
   "outputs": [],
   "source": [
    "fig, ax = bagpy.create_fig(1)\n",
    "ax[0].scatter(x='Time', y='linear.x', data=df_cmd_vel_msg)\n",
    "plt.show()"
   ]
  },
  {
   "cell_type": "markdown",
   "id": "6ccec1fb",
   "metadata": {},
   "source": [
    "### Plotting time vs angular velocity in z graph"
   ]
  },
  {
   "cell_type": "code",
   "execution_count": null,
   "id": "eabb2e73",
   "metadata": {},
   "outputs": [],
   "source": [
    "fig, ax = bagpy.create_fig(1)\n",
    "ax[0].scatter(x='Time', y='angular.z', data=df_cmd_vel_msg)\n",
    "plt.show()"
   ]
  },
  {
   "cell_type": "markdown",
   "id": "2cf1d8f5",
   "metadata": {},
   "source": [
    "------"
   ]
  },
  {
   "cell_type": "markdown",
   "id": "27ccb7e8",
   "metadata": {},
   "source": [
    "## For bag2"
   ]
  },
  {
   "cell_type": "markdown",
   "id": "ad68675b",
   "metadata": {},
   "source": [
    "### Inspect Topics"
   ]
  },
  {
   "cell_type": "code",
   "execution_count": null,
   "id": "db7f00e6",
   "metadata": {},
   "outputs": [],
   "source": [
    "b2.topic_table"
   ]
  },
  {
   "cell_type": "markdown",
   "id": "e48ab43e",
   "metadata": {},
   "source": [
    "### Inspect Topic: /cmd_vel to check when robot stops"
   ]
  },
  {
   "cell_type": "code",
   "execution_count": null,
   "id": "890f8f6e",
   "metadata": {},
   "outputs": [],
   "source": [
    "cmd_vel_msg = b2.message_by_topic('/cmd_vel')\n",
    "df_cmd_vel_msg = pd.read_csv(cmd_vel_msg)\n",
    "df_cmd_vel_msg"
   ]
  },
  {
   "cell_type": "markdown",
   "id": "ed9e1f84",
   "metadata": {},
   "source": [
    "### Plotting time vs linear velocity in x graph"
   ]
  },
  {
   "cell_type": "code",
   "execution_count": null,
   "id": "eaa830af",
   "metadata": {},
   "outputs": [],
   "source": [
    "fig, ax = bagpy.create_fig(1)\n",
    "ax[0].scatter(x='Time', y='linear.x', data=df_cmd_vel_msg)\n",
    "plt.show()"
   ]
  },
  {
   "cell_type": "markdown",
   "id": "8423d00b",
   "metadata": {},
   "source": [
    "### Plotting time vs angular velocity in z graph"
   ]
  },
  {
   "cell_type": "code",
   "execution_count": null,
   "id": "4a47e7a0",
   "metadata": {},
   "outputs": [],
   "source": [
    "fig, ax = bagpy.create_fig(1)\n",
    "ax[0].scatter(x='Time', y='angular.z', data=df_cmd_vel_msg)\n",
    "plt.show()"
   ]
  },
  {
   "cell_type": "markdown",
   "id": "3c8d09fb",
   "metadata": {},
   "source": [
    "----"
   ]
  },
  {
   "cell_type": "markdown",
   "id": "d8ac6729",
   "metadata": {},
   "source": [
    "# Analysis\n",
    "\n",
    "Two bag files are analysed. Bag 1 is the bag file from 01.10.2020 between 11:20-11:30. Bag 2 is a random bag file. We observe the linear velocity in the x-axis and angular velocity in the z-axis of the robot using the '/cmd_vel' topic. \n",
    "\n",
    "We notice that there is a sudden cut-off in the linear velocity in x-axis and angular velocity in z-axis in Bag 1. This indicates that the robot stopped moving. This indicates that something might be wrong in the robot. The linear velocity in x-axis and angular velocity in z-axis do not suddenly cut-off. "
   ]
  }
 ],
 "metadata": {
  "kernelspec": {
   "display_name": "Python 3 (ipykernel)",
   "language": "python",
   "name": "python3"
  },
  "language_info": {
   "codemirror_mode": {
    "name": "ipython",
    "version": 3
   },
   "file_extension": ".py",
   "mimetype": "text/x-python",
   "name": "python",
   "nbconvert_exporter": "python",
   "pygments_lexer": "ipython3",
   "version": "3.8.10"
  }
 },
 "nbformat": 4,
 "nbformat_minor": 5
}
